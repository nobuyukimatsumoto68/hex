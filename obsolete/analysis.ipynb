{
 "cells": [
  {
   "cell_type": "code",
   "execution_count": 1,
   "id": "27be4e92",
   "metadata": {},
   "outputs": [],
   "source": [
    "import numpy as np\n",
    "import matplotlib.pyplot as plt\n",
    "import scipy.special as sc"
   ]
  },
  {
   "cell_type": "code",
   "execution_count": 2,
   "id": "437cb95a",
   "metadata": {},
   "outputs": [],
   "source": [
    "class Jackknife:\n",
    "    def __init__( self, len_data, binsize ):\n",
    "        self.binsize = binsize\n",
    "        self.nbins = int(len_data/self.binsize)\n",
    "        self.N = self.binsize * self.nbins\n",
    "        self.jack_avg = []\n",
    "        self.est = 0\n",
    "        self.var_est = 0\n",
    "\n",
    "    def set( self, func, list_of_data ):\n",
    "        for i in range( self.nbins ):\n",
    "            self.jack_avg.append( func( i, self.binsize, list_of_data ) )\n",
    "\n",
    "    def do_it( self ):\n",
    "        for i in range( 0, self.nbins ):\n",
    "            self.est += self.jack_avg[i]\n",
    "        self.est /= self.nbins\n",
    "\n",
    "        for i in range( 0, self.nbins ):\n",
    "            self.var_est += ( self.jack_avg[i] - self.est )**2\n",
    "        self.var_est /= self.nbins\n",
    "        self.var_est *= self.nbins -1\n",
    "\n",
    "    def mean( self ):\n",
    "        return self.est\n",
    "\n",
    "    def var( self ):\n",
    "        return self.var_est\n",
    "\n",
    "    def err( self ):\n",
    "        return np.sqrt(self.var_est)\n",
    "\n",
    "def simple_mean(i, binsize, np_data):\n",
    "    resmpld = np.delete(np_data, np.s_[i*binsize:(i+1)*binsize])\n",
    "    return np.mean(resmpld)\n",
    "\n",
    "def format_print(cen, err):\n",
    "    for i in range(-50, 50):\n",
    "        if 10**(-i+1)>=err>10**(-i):\n",
    "            tmp=err*10**(i+1)\n",
    "            return '{num:.{width}f}'.format(num=cen, width=i+1)+'('+str(round(tmp))+')'\n",
    "\n",
    "def format_print_w_exact(exact, cen, err):\n",
    "    for i in range(-50, 50):\n",
    "        if 10**(-i+1)>=err>10**(-i):\n",
    "            tmp=err*10**(i+1)\n",
    "            return '{num:.{width}f}'.format(num=cen, width=i+1)+'('+str(round(tmp))+')'+' exact:'+'{ex:.{width}f}'.format(ex=exact, width=i+2)+' ['+'{num:.{width}f}'.format(num=abs(exact-cen)/err, width=2)+' sigma]'"
   ]
  },
  {
   "cell_type": "code",
   "execution_count": 3,
   "id": "c13b4782",
   "metadata": {},
   "outputs": [],
   "source": [
    "def get_rhot(data0):\n",
    "    # data0=topo_ori.transpose()[20]\n",
    "    data=data0 # -np.mean(data0)\n",
    "    rolled=np.array([np.roll(data,t) for t in range(int(np.size(data)/2))])\n",
    "    ct=np.mean(data*rolled,axis=1)\n",
    "    rhot=ct/ct[0]\n",
    "    return rhot\n",
    "\n",
    "def get_delta_rhot(data, rhot):\n",
    "    Lambda=min(int(np.size(rhot)/2),100)\n",
    "    delta_rhot_sq_=[]\n",
    "    for t in np.arange(1,int(np.size(rhot)/4)):\n",
    "        tmp=np.sum(np.array([ rhot[k+t]+rhot[k-t]-2.0*rhot[k]*rhot[t] for k in np.arange(1,t+Lambda+1) ])**2)\n",
    "        delta_rhot_sq_.append(tmp/np.size(data))\n",
    "    delta_rhot=np.sqrt( np.array(delta_rhot_sq_) )\n",
    "    return delta_rhot\n",
    "\n",
    "def get_tauint(data,rhot,wlis):\n",
    "    tauint_list=np.array([ np.sum(rhot[1:w]) + 0.5 for w in wlis ])\n",
    "    delta_tauint_sq=(4.0*wlis+2.0)/np.size(data) * tauint_list**2\n",
    "    delta_tauint=np.sqrt(delta_tauint_sq)\n",
    "    return tauint_list, delta_tauint"
   ]
  },
  {
   "cell_type": "code",
   "execution_count": 4,
   "id": "e951f332",
   "metadata": {},
   "outputs": [],
   "source": [
    "def Z(beta_, hext_):\n",
    "    res = 0.0\n",
    "    res += 2.0*np.cosh(4.0*hext_)*np.exp(12.0*beta_)\n",
    "    res += 8.0*np.cosh(2.0*hext_)\n",
    "    res += 6.0*np.exp(-4.0*beta_)\n",
    "    return res"
   ]
  },
  {
   "cell_type": "code",
   "execution_count": 6,
   "id": "ae586fd1",
   "metadata": {},
   "outputs": [],
   "source": [
    "def mag_per_site(beta_, hext_):\n",
    "    denom = 0.0\n",
    "    denom += np.cosh(4.0*hext_)*np.exp(12.0*beta_)\n",
    "    denom += 4.0*np.cosh(2.0*hext_)\n",
    "    denom += 3.0*np.exp(-4.0*beta_)\n",
    "    \n",
    "    numer = 0.0\n",
    "    numer += np.sinh(4.0*hext_)*np.exp(12.0*beta_)\n",
    "    numer += 2.0*np.sinh(2.0*hext_)\n",
    "    return numer/denom"
   ]
  },
  {
   "cell_type": "code",
   "execution_count": 59,
   "id": "8995c790",
   "metadata": {},
   "outputs": [],
   "source": [
    "nin=2000\n",
    "nfin=10000\n",
    "nint=1\n",
    "nconf=(nfin-nin)/nint"
   ]
  },
  {
   "cell_type": "code",
   "execution_count": 60,
   "id": "6868c6b9",
   "metadata": {},
   "outputs": [
    {
     "name": "stdout",
     "output_type": "stream",
     "text": [
      "beta=0.2, hext=0.1, lx=2, ly=2\n"
     ]
    }
   ],
   "source": [
    "beta=0.2\n",
    "hext=0.1\n",
    "lx=2\n",
    "ly=2\n",
    "print(\"beta=\"+str(beta)+\", hext=\"+str(hext)\n",
    "     +\", lx=\"+str(lx)+\", ly=\"+str(ly))\n",
    "vlat=lx*ly"
   ]
  },
  {
   "cell_type": "code",
   "execution_count": 61,
   "id": "24a0b0e2",
   "metadata": {},
   "outputs": [
    {
     "data": {
      "text/plain": [
       "'0.284275(100) exact:0.2842570 [0.18 sigma]'"
      ]
     },
     "execution_count": 61,
     "metadata": {},
     "output_type": "execute_result"
    }
   ],
   "source": [
    "## CHECK\n",
    "\n",
    "delta=1.0e-2\n",
    "\n",
    "Z0=Z(beta, hext)\n",
    "ZP=Z(beta, hext+0.5*delta)\n",
    "ZM=Z(beta, hext-0.5*delta)\n",
    "\n",
    "numeric=0.25*(ZP-ZM)/delta/Z0\n",
    "exact=mag_per_site(beta, hext)\n",
    "\n",
    "format_print_w_exact(exact, numeric, delta**2)"
   ]
  },
  {
   "cell_type": "code",
   "execution_count": null,
   "id": "91c9cf0f",
   "metadata": {},
   "outputs": [],
   "source": []
  },
  {
   "cell_type": "code",
   "execution_count": 62,
   "id": "12bd0a06",
   "metadata": {},
   "outputs": [],
   "source": [
    "data=np.loadtxt(\"data\")"
   ]
  },
  {
   "cell_type": "code",
   "execution_count": 63,
   "id": "791de87a",
   "metadata": {},
   "outputs": [],
   "source": [
    "binsize=10"
   ]
  },
  {
   "cell_type": "code",
   "execution_count": 64,
   "id": "896f9758",
   "metadata": {},
   "outputs": [
    {
     "name": "stdout",
     "output_type": "stream",
     "text": [
      "0.288(19) exact:0.2843 [0.19 sigma]\n"
     ]
    }
   ],
   "source": [
    "jk = Jackknife(nconf, binsize)\n",
    "jk.set(simple_mean, data.T[0])\n",
    "jk.do_it()\n",
    "mu_w0=jk.mean()\n",
    "sig_w0=jk.err()\n",
    "print(format_print_w_exact(mag_per_site(beta,hext), mu_w0, sig_w0))"
   ]
  },
  {
   "cell_type": "code",
   "execution_count": 65,
   "id": "5ba717b2",
   "metadata": {},
   "outputs": [
    {
     "data": {
      "text/plain": [
       "0.28425698441839403"
      ]
     },
     "execution_count": 65,
     "metadata": {},
     "output_type": "execute_result"
    }
   ],
   "source": [
    "mag_per_site(beta,hext)"
   ]
  },
  {
   "cell_type": "code",
   "execution_count": 66,
   "id": "b86d9e0d",
   "metadata": {},
   "outputs": [
    {
     "data": {
      "text/plain": [
       "0.019161070597549373"
      ]
     },
     "execution_count": 66,
     "metadata": {},
     "output_type": "execute_result"
    }
   ],
   "source": [
    "sig_w0"
   ]
  },
  {
   "cell_type": "code",
   "execution_count": null,
   "id": "199d1df8",
   "metadata": {},
   "outputs": [],
   "source": []
  },
  {
   "cell_type": "code",
   "execution_count": null,
   "id": "a50620a6",
   "metadata": {},
   "outputs": [],
   "source": []
  },
  {
   "cell_type": "code",
   "execution_count": null,
   "id": "96a233d2",
   "metadata": {},
   "outputs": [],
   "source": []
  },
  {
   "cell_type": "code",
   "execution_count": null,
   "id": "37a84e08",
   "metadata": {},
   "outputs": [],
   "source": []
  },
  {
   "cell_type": "code",
   "execution_count": 17,
   "id": "e990ee6f",
   "metadata": {},
   "outputs": [
    {
     "data": {
      "text/plain": [
       "0.09989267676767674"
      ]
     },
     "execution_count": 17,
     "metadata": {},
     "output_type": "execute_result"
    }
   ],
   "source": [
    "mu_w0"
   ]
  },
  {
   "cell_type": "code",
   "execution_count": null,
   "id": "d0ba15cd",
   "metadata": {},
   "outputs": [],
   "source": []
  },
  {
   "cell_type": "code",
   "execution_count": null,
   "id": "153fcfa3",
   "metadata": {},
   "outputs": [],
   "source": []
  },
  {
   "cell_type": "code",
   "execution_count": null,
   "id": "782d135e",
   "metadata": {},
   "outputs": [],
   "source": []
  },
  {
   "cell_type": "code",
   "execution_count": null,
   "id": "929d56d9",
   "metadata": {},
   "outputs": [],
   "source": []
  },
  {
   "cell_type": "code",
   "execution_count": 50,
   "id": "ace47caa",
   "metadata": {},
   "outputs": [],
   "source": [
    "data=np.loadtxt(\"beta001h01.dat\")"
   ]
  },
  {
   "cell_type": "code",
   "execution_count": 51,
   "id": "68690378",
   "metadata": {},
   "outputs": [],
   "source": [
    "binsize=10"
   ]
  },
  {
   "cell_type": "code",
   "execution_count": 52,
   "id": "28d008c7",
   "metadata": {},
   "outputs": [
    {
     "name": "stdout",
     "output_type": "stream",
     "text": [
      "0.102(16) exact:0.1058 [0.24 sigma]\n"
     ]
    }
   ],
   "source": [
    "jk = Jackknife(nconf, binsize)\n",
    "jk.set(simple_mean, data.T[0])\n",
    "jk.do_it()\n",
    "mu_w0=jk.mean()\n",
    "sig_w0=jk.err()\n",
    "print(format_print_w_exact(mag_per_site(beta,hext), mu_w0, sig_w0))"
   ]
  },
  {
   "cell_type": "code",
   "execution_count": null,
   "id": "4f066940",
   "metadata": {},
   "outputs": [],
   "source": []
  },
  {
   "cell_type": "code",
   "execution_count": null,
   "id": "c37a761f",
   "metadata": {},
   "outputs": [],
   "source": []
  }
 ],
 "metadata": {
  "kernelspec": {
   "display_name": "Python 3 (ipykernel)",
   "language": "python",
   "name": "python3"
  },
  "language_info": {
   "codemirror_mode": {
    "name": "ipython",
    "version": 3
   },
   "file_extension": ".py",
   "mimetype": "text/x-python",
   "name": "python",
   "nbconvert_exporter": "python",
   "pygments_lexer": "ipython3",
   "version": "3.9.12"
  }
 },
 "nbformat": 4,
 "nbformat_minor": 5
}
